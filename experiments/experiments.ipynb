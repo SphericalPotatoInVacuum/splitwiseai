{
 "cells": [
  {
   "cell_type": "code",
   "execution_count": 8,
   "metadata": {
    "ExecuteTime": {
     "end_time": "2024-03-05T17:19:17.575524Z",
     "start_time": "2024-03-05T17:19:16.750138Z"
    }
   },
   "outputs": [],
   "source": [
    "from agents import picture_recognition"
   ]
  },
  {
   "cell_type": "code",
   "execution_count": 9,
   "metadata": {
    "ExecuteTime": {
     "end_time": "2024-03-05T17:19:17.579003Z",
     "start_time": "2024-03-05T17:19:17.576760Z"
    }
   },
   "outputs": [],
   "source": [
    "image_path = 'test_image_2.jpg'"
   ]
  },
  {
   "cell_type": "code",
   "execution_count": 10,
   "metadata": {
    "ExecuteTime": {
     "end_time": "2024-03-05T17:19:29.607458Z",
     "start_time": "2024-03-05T17:19:17.580129Z"
    }
   },
   "outputs": [
    {
     "data": {
      "text/plain": [
       "{'items': [{'id': 1,\n",
       "   'name': 'Kapućino XL KFT Selekcija (б)',\n",
       "   'price': 335.0,\n",
       "   'count': 1,\n",
       "   'total': 335.0},\n",
       "  {'id': 2,\n",
       "   'name': 'Kafe late Grand Cru (б)',\n",
       "   'price': 295.0,\n",
       "   'count': 1,\n",
       "   'total': 295.0},\n",
       "  {'id': 3,\n",
       "   'name': 'Late makijato KFT Selekcija (б)',\n",
       "   'price': 295.0,\n",
       "   'count': 1,\n",
       "   'total': 295.0},\n",
       "  {'id': 4,\n",
       "   'name': 'Dečji smash burger (б)',\n",
       "   'price': 615.0,\n",
       "   'count': 1,\n",
       "   'total': 615.0},\n",
       "  {'id': 5,\n",
       "   'name': 'Cezar tortilja (б)',\n",
       "   'price': 745.0,\n",
       "   'count': 1,\n",
       "   'total': 745.0}],\n",
       " 'total': 2875.0}"
      ]
     },
     "execution_count": 10,
     "metadata": {},
     "output_type": "execute_result"
    }
   ],
   "source": [
    "image_path = 'test_image_2.jpg'\n",
    "\n",
    "res = await picture_recognition(image_path)\n",
    "res"
   ]
  },
  {
   "cell_type": "code",
   "execution_count": 11,
   "metadata": {},
   "outputs": [],
   "source": [
    "from agents import voice_extraction"
   ]
  },
  {
   "cell_type": "code",
   "execution_count": 7,
   "metadata": {},
   "outputs": [
    {
     "data": {
      "text/plain": [
       "{'латте макиато': ['Андрей', 'Саня', 'Ваня'],\n",
       " 'латте': ['Саня'],\n",
       " 'капучино': ['Ваня'],\n",
       " 'бургер': ['Саня'],\n",
       " 'тортилья': ['Ваня']}"
      ]
     },
     "execution_count": 7,
     "metadata": {},
     "output_type": "execute_result"
    }
   ],
   "source": [
    "description = \"Короче Андрей взял латте макиато, Саня - латте, а Ваня - капучино, потом Саня с Ваней по латте макиато, Саня взял бургер, а Ваня тортилью\"\n",
    "\n",
    "res = await voice_extraction(description)\n",
    "res"
   ]
  },
  {
   "cell_type": "code",
   "execution_count": 1,
   "metadata": {},
   "outputs": [
    {
     "name": "stderr",
     "output_type": "stream",
     "text": [
      "/home/ivankot/.local/lib/python3.10/site-packages/langchain_core/utils/utils.py:159: UserWarning: WARNING! seed is not default parameter.\n",
      "                seed was transferred to model_kwargs.\n",
      "                Please confirm that seed is what you intended.\n",
      "  warnings.warn(\n"
     ]
    }
   ],
   "source": [
    "from agents import voice_aligning"
   ]
  },
  {
   "cell_type": "code",
   "execution_count": 2,
   "metadata": {},
   "outputs": [],
   "source": [
    "guests_description = {'латте макиато': ['Андрей', 'Саня', 'Ваня'],\n",
    " 'латте': ['Саня'],\n",
    " 'капучино': ['Ваня'],\n",
    " 'бургер': ['Саня'],\n",
    " 'тортилья': ['Ваня']}\n",
    "\n",
    "\n",
    "system_order = {'items': [{'id': 1,\n",
    "   'name': 'Kapućino XL KFT Selekcija (б)',\n",
    "   'price': 335.0,\n",
    "   'count': 1,\n",
    "   'total': 335.0},\n",
    "  {'id': 2,\n",
    "   'name': 'Kafe late Grand Cru (б)',\n",
    "   'price': 295.0,\n",
    "   'count': 1,\n",
    "   'total': 295.0},\n",
    "  {'id': 3,\n",
    "   'name': 'Late makijato KFT Selekcija (б)',\n",
    "   'price': 295.0,\n",
    "   'count': 1,\n",
    "   'total': 295.0},\n",
    "  {'id': 4,\n",
    "   'name': 'Dečji smash burger (б)',\n",
    "   'price': 615.0,\n",
    "   'count': 1,\n",
    "   'total': 615.0},\n",
    "  {'id': 5,\n",
    "   'name': 'Cezar tortilja (б)',\n",
    "   'price': 745.0,\n",
    "   'count': 1,\n",
    "   'total': 745.0}],\n",
    " 'total': 2875.0}"
   ]
  },
  {
   "cell_type": "code",
   "execution_count": 3,
   "metadata": {},
   "outputs": [],
   "source": [
    "res = await voice_aligning(guests_description, system_order)\n",
    "res"
   ]
  },
  {
   "cell_type": "code",
   "execution_count": null,
   "metadata": {},
   "outputs": [],
   "source": []
  }
 ],
 "metadata": {
  "kernelspec": {
   "display_name": "Python 3",
   "language": "python",
   "name": "python3"
  },
  "language_info": {
   "codemirror_mode": {
    "name": "ipython",
    "version": 3
   },
   "file_extension": ".py",
   "mimetype": "text/x-python",
   "name": "python",
   "nbconvert_exporter": "python",
   "pygments_lexer": "ipython3",
   "version": "3.10.12"
  }
 },
 "nbformat": 4,
 "nbformat_minor": 2
}
