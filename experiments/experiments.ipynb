{
 "cells": [
  {
   "cell_type": "code",
   "execution_count": 1,
   "metadata": {
    "ExecuteTime": {
     "end_time": "2024-03-05T17:19:17.575524Z",
     "start_time": "2024-03-05T17:19:16.750138Z"
    }
   },
   "outputs": [
    {
     "name": "stderr",
     "output_type": "stream",
     "text": [
      "/home/ivankot/.local/lib/python3.10/site-packages/langchain_core/utils/utils.py:159: UserWarning: WARNING! seed is not default parameter.\n",
      "                seed was transferred to model_kwargs.\n",
      "                Please confirm that seed is what you intended.\n",
      "  warnings.warn(\n"
     ]
    }
   ],
   "source": [
    "from agents import picture_recognition"
   ]
  },
  {
   "cell_type": "code",
   "execution_count": 2,
   "metadata": {
    "ExecuteTime": {
     "end_time": "2024-03-05T17:19:17.579003Z",
     "start_time": "2024-03-05T17:19:17.576760Z"
    }
   },
   "outputs": [],
   "source": [
    "image_path = 'test_image_1.jpg'"
   ]
  },
  {
   "cell_type": "code",
   "execution_count": 3,
   "metadata": {
    "ExecuteTime": {
     "end_time": "2024-03-05T17:19:29.607458Z",
     "start_time": "2024-03-05T17:19:17.580129Z"
    }
   },
   "outputs": [],
   "source": [
    "res = await picture_recognition(image_path)"
   ]
  },
  {
   "cell_type": "code",
   "execution_count": 4,
   "metadata": {
    "ExecuteTime": {
     "end_time": "2024-03-05T17:19:31.464053Z",
     "start_time": "2024-03-05T17:19:31.455929Z"
    },
    "collapsed": false
   },
   "outputs": [
    {
     "data": {
      "text/plain": [
       "{'items': [{'id': 1,\n",
       "   'name': 'Koktel 4',\n",
       "   'price': 920.0,\n",
       "   'count': 1,\n",
       "   'total': 920.0},\n",
       "  {'id': 2, 'name': 'Koktel 8', 'price': 860.0, 'count': 1, 'total': 860.0}],\n",
       " 'total': 1780.0}"
      ]
     },
     "execution_count": 4,
     "metadata": {},
     "output_type": "execute_result"
    }
   ],
   "source": [
    "res"
   ]
  },
  {
   "cell_type": "code",
   "execution_count": 1,
   "metadata": {},
   "outputs": [
    {
     "name": "stderr",
     "output_type": "stream",
     "text": [
      "/home/ivankot/.local/lib/python3.10/site-packages/langchain_core/utils/utils.py:159: UserWarning: WARNING! seed is not default parameter.\n",
      "                seed was transferred to model_kwargs.\n",
      "                Please confirm that seed is what you intended.\n",
      "  warnings.warn(\n"
     ]
    }
   ],
   "source": [
    "from agents import voice_extraction"
   ]
  },
  {
   "cell_type": "code",
   "execution_count": 2,
   "metadata": {},
   "outputs": [],
   "source": [
    "description = \"короче Саня взял 2 авиации, Ваня взял цезарь ролл, Митя - суши с сососем, Вика с Лерой пиццу пепперони и ещё Саня с Ваней и Митей взяли пиццу маргариту\"\n",
    "\n",
    "res = await voice_extraction(description)"
   ]
  },
  {
   "cell_type": "code",
   "execution_count": 3,
   "metadata": {},
   "outputs": [
    {
     "data": {
      "text/plain": [
       "{'2 авиации': ['Саня'],\n",
       " 'цезарь ролл': ['Ваня'],\n",
       " 'суши с сососем': ['Митя'],\n",
       " 'пицца пепперони': ['Вика', 'Лера'],\n",
       " 'пицца маргарита': ['Саня', 'Ваня', 'Митя']}"
      ]
     },
     "execution_count": 3,
     "metadata": {},
     "output_type": "execute_result"
    }
   ],
   "source": [
    "res"
   ]
  },
  {
   "cell_type": "code",
   "execution_count": null,
   "metadata": {},
   "outputs": [],
   "source": []
  }
 ],
 "metadata": {
  "kernelspec": {
   "display_name": "Python 3",
   "language": "python",
   "name": "python3"
  },
  "language_info": {
   "codemirror_mode": {
    "name": "ipython",
    "version": 3
   },
   "file_extension": ".py",
   "mimetype": "text/x-python",
   "name": "python",
   "nbconvert_exporter": "python",
   "pygments_lexer": "ipython3",
   "version": "3.10.12"
  }
 },
 "nbformat": 4,
 "nbformat_minor": 2
}
